{
 "cells": [
  {
   "cell_type": "markdown",
   "metadata": {},
   "source": [
    "## Branch and bound algorithm for feature selection (Oleksii Hrinchuk)"
   ]
  },
  {
   "cell_type": "markdown",
   "metadata": {},
   "source": [
    "### Problem description"
   ]
  },
  {
   "cell_type": "markdown",
   "metadata": {},
   "source": [
    "We have a problem of feature selection. Given a set $X_D$ of $D$ features and our task is to select optimal subset $X_d$ of $d$ features from them. We consider some subset $X_d^*$ optimal if it satisfies\n",
    "\n",
    "$$\n",
    "J(X_d^*) = \\max_{X_d \\subset X_D} J(X_d),\n",
    "$$\n",
    "\n",
    "where $J$ is a criterion function which should satisfy a monotonicity property\n",
    "\n",
    "$$\n",
    "J(X_s) \\geq J(X_t),\\;\\text{if}\\;X_s \\supseteq X_t.\n",
    "$$\n",
    "\n",
    "The monotonicity is not particularly restrictive, as it merely means that subset of features should be not better than any larger set that contatints the subset. For example, we can use some discriminant function or Bhattacharyya distance as $J$.\n",
    "\n",
    "Feature set $X_D$ has $C_D^d = \\frac{D!}{d!(D-d)!}$ subsets of $d$ elements, so exhaustive search is not acceptable in this problem. We decided to use branch and bound algorithm, which avoids exhaustive search and finds the globally best value for any criterion $J$."
   ]
  },
  {
   "cell_type": "markdown",
   "metadata": {},
   "source": [
    "### Minimum solution tree"
   ]
  },
  {
   "cell_type": "markdown",
   "metadata": {},
   "source": [
    "The solution tree is a fourtuple $(N,E,r,L)$:\n",
    "\n",
    "* N $-$ node set\n",
    "* E $-$ edge set, $e(n,n_c) \\in E$ denotes that node $n_c$ holds all features hold by node $n$ except one discarded\n",
    "* r $-$ root node with feature set $X_D$\n",
    "* L $-$ terminal node set which containts $C_D^d$ nodes each of which holds $d$ features"
   ]
  },
  {
   "cell_type": "markdown",
   "metadata": {},
   "source": [
    "<img src=\"tree.png\">"
   ]
  },
  {
   "cell_type": "markdown",
   "metadata": {},
   "source": [
    "### Algorithm"
   ]
  },
  {
   "cell_type": "markdown",
   "metadata": {},
   "source": [
    "The following notation will be used in the algorithm.\n",
    "\n",
    "* **LIST(i)**: An ordered list of the features enumerated at level $i$\n",
    "* **POINTER(i)**: The pointer to the element of **LIST(i)** being currently considered. \n",
    "* **SUCCESSOR(i,k)**: The number of successors that the $k_{th}$ element in **LIST(i)** can have.\n",
    "* **AVAIL**: A list of available feature values that **LIST(i)** can assume.\n",
    "\n",
    "1) **Step 0** (Initialization): Set $B = B_0$, **AVAIL** = $\\{1,2,...,D\\}$, $i=1$, **LIST(0)** = $\\{0\\}$, **SUCCESSOR(0,1)** = $d+1$, **POINTER(0)** = 1.\n",
    "\n",
    "2) **Step 1** (Initialize **LIST(i)**): Set **NODE** = **POINTER(i-1)**. Compute $J_i(x_1,\\dots,x_{i-1},k)$ for all $k$ in **AVAIL**. Rank the features in **AVAIL** in the increasing order of $J_i(x_1,\\dots,x_{i-1},k)$ and store the smallest $p$ of these in **LIST(i)** in the increasing order (with the first element in **LIST(i)** being the feature in **AVAIL** yielding the smallest $J_i$), where $p$ = **SUCCESSOR(i-1, NODE)**. Set **SUCCESSOR(i,j)** = $p -j + 1$, for $j = 1,\\dots,p$. Remove **LIST(i)** from **AVAIL**.\n",
    "\n",
    "3) **Step 2** (Select new node): If **LIST(i)** is empty, go to **Step 4**. Otherwise, set $x_i = k$ where $k$ is the last element in **LIST(i)**. Set **POINTER(i)** = $j$ where $j$ is the current number of elements in **LIST(i)**. Delete $k$ from **LIST(i)**.\n",
    "\n",
    "4) **Step 3** (Check bound): If $J_i(x_1,\\dots,x_i) < B$, return $x_i$ to **AVAIL** and go to **Step 4**. If level $i=d$, go to **Step 5**. Otherwise, set $i = i+1$ and go to **Step 1**.\n",
    "\n",
    "5) **Step 4** (Backtrack): Set $i=i-1$. If $i=0$, terminate the algorithm. Otherwise, return $x_i$ to **AVAIL** and go to **Step 2**.\n",
    "\n",
    "6) **Step 5** (Final level, update bound): Set $B = J_{D-d}(x_1,\\dots,x_{D-d})$ and save $(x_1,\\dots,x_{D-d})$ as $(x_1^*,\\dots,x_{D-d}^*)$. Return $x_{D-d}$ to **AVAIL**. Go to **Step 4**."
   ]
  },
  {
   "cell_type": "markdown",
   "metadata": {},
   "source": [
    "## Implementation"
   ]
  },
  {
   "cell_type": "markdown",
   "metadata": {},
   "source": [
    "### Imports"
   ]
  },
  {
   "cell_type": "code",
   "execution_count": 1,
   "metadata": {
    "collapsed": true
   },
   "outputs": [],
   "source": [
    "# basic imports\n",
    "import csv\n",
    "import numpy as np\n",
    "%matplotlib inline\n",
    "import matplotlib.pyplot as plt\n",
    "\n",
    "# scikit learn\n",
    "from sklearn.preprocessing import scale"
   ]
  },
  {
   "cell_type": "markdown",
   "metadata": {},
   "source": [
    "### Reading data"
   ]
  },
  {
   "cell_type": "code",
   "execution_count": 2,
   "metadata": {
    "collapsed": true
   },
   "outputs": [],
   "source": [
    "# reading CSV file\n",
    "reader = csv.reader(open('../features_2.csv', 'r'), delimiter=',')\n",
    "data_full = np.array(list(reader))\n",
    "reader = csv.reader(open('../all_endpoints_with_missing_values_012615.csv', 'r'), delimiter=',')\n",
    "activity_full = np.array(list(reader))"
   ]
  },
  {
   "cell_type": "code",
   "execution_count": 3,
   "metadata": {
    "collapsed": false
   },
   "outputs": [
    {
     "name": "stdout",
     "output_type": "stream",
     "text": [
      "Protein names equality check: True\n"
     ]
    }
   ],
   "source": [
    "# feature names\n",
    "feature_names = data_full[0, 1:]\n",
    "\n",
    "# names of the proteins\n",
    "protein_names = data_full[1:, 0]\n",
    "protein_names1 = activity_full[1:, 0]\n",
    "print 'Protein names equality check:', np.array_equal(protein_names1, protein_names)\n",
    "\n",
    "# names of receptors\n",
    "receptor_names = activity_full[0, 1:]\n",
    "\n",
    "# Object-Feature matrix (proteins description)\n",
    "X = data_full[1:, 1:].astype('double')\n",
    "\n",
    "# Activity matrix\n",
    "Y = activity_full[1:, 1:].astype('int16')\n",
    "\n",
    "# Removing constant features\n",
    "ind = np.var(X, axis = 0) != 0\n",
    "X = X[:, ind]\n",
    "feature_names = feature_names[ind]"
   ]
  },
  {
   "cell_type": "code",
   "execution_count": 20,
   "metadata": {
    "collapsed": false
   },
   "outputs": [],
   "source": [
    "s = 0\n",
    "for y in Y:\n",
    "    if (y[:3].sum() < 10):\n",
    "        s += 1"
   ]
  },
  {
   "cell_type": "code",
   "execution_count": 21,
   "metadata": {
    "collapsed": false
   },
   "outputs": [
    {
     "data": {
      "text/plain": [
       "4282"
      ]
     },
     "execution_count": 21,
     "metadata": {},
     "output_type": "execute_result"
    }
   ],
   "source": [
    "s"
   ]
  },
  {
   "cell_type": "code",
   "execution_count": 10,
   "metadata": {
    "collapsed": false
   },
   "outputs": [
    {
     "data": {
      "text/plain": [
       "41470"
      ]
     },
     "execution_count": 10,
     "metadata": {},
     "output_type": "execute_result"
    }
   ],
   "source": [
    "(Y == 999).sum()"
   ]
  },
  {
   "cell_type": "markdown",
   "metadata": {},
   "source": [
    "### Branch and bound class"
   ]
  },
  {
   "cell_type": "code",
   "execution_count": 57,
   "metadata": {
    "collapsed": false
   },
   "outputs": [],
   "source": [
    "class BranchAndBound(object):\n",
    "    \n",
    "    def __init__(self, X, Y, d, B0):\n",
    "        \"\"\"Class for branch and bound feature selection algorithm.\"\"\"\n",
    "        \n",
    "        # Load data to class\n",
    "        self.X = X\n",
    "        self.Y = Y\n",
    "        self.D = X.shape[1]\n",
    "        self.d = self.D - d\n",
    "        self.B = self.bhatta(X[:,:d])\n",
    "        \n",
    "        # Initialization  \n",
    "        a = []\n",
    "        for i in xrange(self.D):\n",
    "            a.append((i, 0))\n",
    "        self.AVAIL = np.array(a, dtype=[('ind', '<i4'), ('rank', '<f4')])\n",
    "        \n",
    "        self.i = 1\n",
    "        \n",
    "        self.Z = []\n",
    "        self.Z_star = [j for j in xrange(d)]\n",
    "        \n",
    "        self.LIST = [[] for j in xrange(self.D-self.d)]\n",
    "        self.LIST[0].append(0)\n",
    "        \n",
    "        self.SUCCESSOR = [[] for j in xrange(self.D-self.d)]\n",
    "        self.SUCCESSOR[0].append(self.d+1)\n",
    "        \n",
    "        self.POINTER = np.zeros(self.D-self.d, dtype=np.int)\n",
    "    \n",
    "    def bhatta(self, X1):\n",
    "        \n",
    "        Mean_X1 = [np.sum(x1) for x1 in X1]\n",
    "        \n",
    "        res = max(Mean_X1)\n",
    "        \n",
    "        return res\n",
    "    \n",
    "    def returnx(self):\n",
    "        \"\"\"Return x to AVAIL.\"\"\"\n",
    "        \n",
    "        indices = [self.x] + self.Z[:self.i-1]\n",
    "        Jx = self.bhatta(X[:, indices])\n",
    "        self.AVAIL = np.concatenate((self.AVAIL, np.array([(self.x, Jx)], \n",
    "                                    dtype=[('ind', '<i4'), ('rank', '<f4')])))\n",
    "        self.AVAIL.sort(order='rank')\n",
    "    \n",
    "    def step1(self):\n",
    "        \"\"\"Initialize LIST(i).\"\"\"\n",
    "        \n",
    "        NODE = self.POINTER[self.i-1]\n",
    "        for f in self.AVAIL:\n",
    "            indices = [f['ind']] + self.Z[:self.i-1]\n",
    "            f['rank'] = self.bhatta(X[:, indices])\n",
    "        self.AVAIL.sort(order='rank')\n",
    "        \n",
    "        p = self.SUCCESSOR[self.i-1][NODE]\n",
    "        \n",
    "        self.LIST[self.i] = [self.AVAIL[j][0] for j in xrange(p)]\n",
    "        self.SUCCESSOR[self.i] = p - np.arange(p)  \n",
    "        self.AVAIL = self.AVAIL[p:]\n",
    "\n",
    "        self.step2()\n",
    "        \n",
    "    def step2(self):\n",
    "        \"\"\"Select the first node to check.\"\"\"\n",
    "        \n",
    "        self.x = self.LIST[self.i].pop()\n",
    "        \n",
    "        self.Xs = [f['ind'] for f in self.AVAIL]\n",
    "        indices = self.Xs + self.Z[:self.i-1] + [self.x]\n",
    "        \n",
    "        self.Jc = self.bhatta(X[:, indices])\n",
    "        \n",
    "        if (i == self.D - self.d):\n",
    "            self.step3()\n",
    "            return 0\n",
    "\n",
    "        self.step3()\n",
    "        \n",
    "    def step3(self):\n",
    "        \"\"\"Check bound.\"\"\"\n",
    "        \n",
    "        self.returnx()\n",
    "        \n",
    "        if (self.Jc <= self.B):\n",
    "            self.step5()\n",
    "            return 0\n",
    "        \n",
    "        self.step4()\n",
    "\n",
    "    def step4(self):\n",
    "        \"\"\"Update bound.\"\"\"\n",
    "        \n",
    "        self.B = self.Jc\n",
    "        self.Z_star = self.Z[:self.i-1] + self.Xs + [self.x]\n",
    "        \n",
    "        self.step5()\n",
    "                \n",
    "    def step5(self):\n",
    "        \"\"\"Handle the next node.\"\"\"\n",
    "        \n",
    "        if not self.LIST[self.i]:\n",
    "            self.step6()\n",
    "            return 0        \n",
    "        \n",
    "        self.POINTER[self.i] = len(self.LIST[self.i]) - 1\n",
    "        self.x = self.LIST[self.i].pop()\n",
    "        \n",
    "        indices = self.Z[:self.i-1] + [self.x]\n",
    "        if (self.bhatta(X[:, indices]) <= self.B):\n",
    "            self.returnx()\n",
    "            self.step5()\n",
    "            return 0\n",
    "        \n",
    "        if (self.i == self.D - self.d):\n",
    "            self.returnx()\n",
    "            self.step4()\n",
    "            return 0\n",
    "        \n",
    "        self.Z.append(self.x)\n",
    "        self.i = self.i + 1\n",
    "        \n",
    "        self.step1()\n",
    "                  \n",
    "    def step6(self):\n",
    "        \"\"\"Backtrack.\"\"\"\n",
    "        \n",
    "        self.i = self.i - 1\n",
    "        if (self.i == 0):\n",
    "            print \"TERMINATED\"\n",
    "            return 0\n",
    "        \n",
    "        self.returnx()\n",
    "        \n",
    "        self.step2()\n",
    "        \n",
    "    def solve(self):\n",
    "        \"\"\"Launch implemented B&B algorithm to find the best feature subset.\"\"\"\n",
    "        \n",
    "        self.step1()\n",
    "        \n",
    "        return self.Z_star"
   ]
  },
  {
   "cell_type": "markdown",
   "metadata": {},
   "source": [
    "### Experiments"
   ]
  },
  {
   "cell_type": "code",
   "execution_count": 58,
   "metadata": {
    "collapsed": false
   },
   "outputs": [
    {
     "name": "stdout",
     "output_type": "stream",
     "text": [
      "[[0 1 1 1 1 0 0 0 0 0]\n",
      " [1 0 1 0 0 0 1 0 0 0]\n",
      " [1 1 1 0 0 0 1 0 1 0]\n",
      " [1 1 0 1 0 1 1 1 0 0]\n",
      " [0 1 0 0 1 0 1 0 0 1]\n",
      " [0 1 1 0 0 1 1 1 1 1]\n",
      " [0 0 1 1 0 0 0 0 0 1]\n",
      " [1 0 1 1 0 1 1 0 0 0]\n",
      " [0 1 1 0 1 1 1 1 0 0]\n",
      " [0 0 1 1 0 1 0 1 0 0]]\n",
      "4 6 8 5 3 5 7 4 2 3\n"
     ]
    }
   ],
   "source": [
    "X = np.random.randint(2, size=(10,10))\n",
    "print X\n",
    "for i in xrange(10):\n",
    "    print X[:,i].sum(),"
   ]
  },
  {
   "cell_type": "code",
   "execution_count": 59,
   "metadata": {
    "collapsed": false
   },
   "outputs": [
    {
     "data": {
      "text/plain": [
       "2"
      ]
     },
     "execution_count": 59,
     "metadata": {},
     "output_type": "execute_result"
    }
   ],
   "source": [
    "bnb.bhatta(X[:,:2])"
   ]
  },
  {
   "cell_type": "code",
   "execution_count": 60,
   "metadata": {
    "collapsed": false
   },
   "outputs": [
    {
     "name": "stdout",
     "output_type": "stream",
     "text": [
      "TERMINATED\n"
     ]
    },
    {
     "data": {
      "text/plain": [
       "[0, 1]"
      ]
     },
     "execution_count": 60,
     "metadata": {},
     "output_type": "execute_result"
    }
   ],
   "source": [
    "bnb = BranchAndBound(X, Y, 2, 0)\n",
    "features = bnb.solve()\n",
    "features"
   ]
  },
  {
   "cell_type": "code",
   "execution_count": 25,
   "metadata": {
    "collapsed": false
   },
   "outputs": [
    {
     "name": "stdout",
     "output_type": "stream",
     "text": [
      "[0.0, 0.5829473992320814, 0.38838260391018525, 0.24018505569731874, 0.19788811106463064]\n",
      "[0.5829473992320814, 0.0, 0.21900173667175776, 0.40691958649312965, 0.40534773052584305]\n",
      "[0.38838260391018525, 0.21900173667175776, 0.0, 0.24018505569731874, 0.19788811106463064]\n",
      "[0.24018505569731874, 0.40691958649312965, 0.24018505569731874, 0.0, 0.16789959640267496]\n",
      "[0.19788811106463064, 0.40534773052584305, 0.19788811106463064, 0.16789959640267496, 0.0]\n"
     ]
    }
   ],
   "source": [
    "# bhattacharyya test\n",
    "import numpy\n",
    "import math\n",
    "\n",
    "h1 = [ 1, 2, 3, 4, 5, 6, 7, 8 ];\n",
    "h2 = [ 6, 5, 4, 3, 2, 1, 0, 0 ];\n",
    "h3 = [ 8, 7, 6, 5, 4, 3, 2, 1 ];\n",
    "h4 = [ 1, 2, 3, 4, 4, 3, 2, 1 ];\n",
    "h5 = [ 8, 8, 8, 8, 8, 8, 8, 8 ];\n",
    "\n",
    "h = [ h1, h2, h3, h4, h5 ];\n",
    "\n",
    "def mean( hist ):\n",
    "    mean = 0.0;\n",
    "    for i in hist:\n",
    "        mean += i;\n",
    "    mean/= len(hist);\n",
    "    return mean;\n",
    "\n",
    "def bhatta ( hist1,  hist2):\n",
    "    # calculate mean of hist1\n",
    "    h1_ = mean(hist1);\n",
    "\n",
    "    # calculate mean of hist2\n",
    "    h2_ = mean(hist2);\n",
    "\n",
    "    # calculate score\n",
    "    score = 0;\n",
    "    for i in range(8):\n",
    "        score += math.sqrt( hist1[i] * hist2[i] );\n",
    "    # print h1_,h2_,score;\n",
    "    score = math.sqrt( 1 - ( 1 / math.sqrt(h1_*h2_*8*8) ) * score );\n",
    "    return score;\n",
    "\n",
    "# generate and output scores\n",
    "scores = [];\n",
    "for i in range(len(h)):\n",
    "    score = [];\n",
    "    for j in range(len(h)):\n",
    "        score.append( bhatta(h[i],h[j]) );\n",
    "    scores.append(score);\n",
    "\n",
    "for i in scores:\n",
    "    print i"
   ]
  },
  {
   "cell_type": "code",
   "execution_count": null,
   "metadata": {
    "collapsed": true
   },
   "outputs": [],
   "source": []
  }
 ],
 "metadata": {
  "kernelspec": {
   "display_name": "Python 2",
   "language": "python",
   "name": "python2"
  },
  "language_info": {
   "codemirror_mode": {
    "name": "ipython",
    "version": 2
   },
   "file_extension": ".py",
   "mimetype": "text/x-python",
   "name": "python",
   "nbconvert_exporter": "python",
   "pygments_lexer": "ipython2",
   "version": "2.7.10"
  }
 },
 "nbformat": 4,
 "nbformat_minor": 0
}
