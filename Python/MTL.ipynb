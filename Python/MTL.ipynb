{
 "cells": [
  {
   "cell_type": "code",
   "execution_count": 38,
   "metadata": {
    "collapsed": true
   },
   "outputs": [],
   "source": [
    "import numpy as np\n",
    "%matplotlib inline\n",
    "import matplotlib.pyplot as plt\n",
    "from sklearn.preprocessing import scale\n",
    "from sklearn.metrics import roc_auc_score, roc_curve\n",
    "from sklearn.cross_validation import KFold, cross_val_score, train_test_split\n",
    "from sklearn.linear_model import Lasso\n",
    "import scipy as sp\n",
    "from scipy.optimize import minimize\n",
    "from time import time"
   ]
  },
  {
   "cell_type": "markdown",
   "metadata": {},
   "source": [
    "# Reading and preprocessing data"
   ]
  },
  {
   "cell_type": "code",
   "execution_count": 39,
   "metadata": {
    "collapsed": false
   },
   "outputs": [
    {
     "name": "stdout",
     "output_type": "stream",
     "text": [
      "Protein names equality check: True\n"
     ]
    }
   ],
   "source": [
    "from data_processing import *\n",
    "    \n",
    "# read all data\n",
    "X, Y, feature_names, receptor_names, protein_names = read_data(design_matrix_file='features_2.csv', \n",
    "                                                               activity_file='all_endpoints_with_missing_values_012615.csv')\n",
    "# omit all features with variance smaller than eps\n",
    "X, feature_names = remove_constant_features(X, feature_names, eps=1e-2)"
   ]
  },
  {
   "cell_type": "code",
   "execution_count": 40,
   "metadata": {
    "collapsed": false,
    "scrolled": true
   },
   "outputs": [
    {
     "name": "stdout",
     "output_type": "stream",
     "text": [
      "Features to consider: ['diameter' 'petitjean' 'petitjeanSC' 'weinerPath' 'BCUT_PEOE_1'\n",
      " 'BCUT_PEOE_3' 'BCUT_SLOGP_0' 'BCUT_SLOGP_1' 'BCUT_SLOGP_2' 'BCUT_SLOGP_3'\n",
      " 'BCUT_SMR_0' 'GCUT_PEOE_0' 'GCUT_PEOE_1' 'GCUT_PEOE_2' 'GCUT_SLOGP_0'\n",
      " 'GCUT_SLOGP_1' 'GCUT_SLOGP_2' 'GCUT_SMR_0' 'GCUT_SMR_1' 'GCUT_SMR_2'\n",
      " 'a_ICM' 'b_1rotN' 'b_1rotR' 'b_double' 'b_rotR' 'b_triple' 'chiral_u'\n",
      " 'reactive' 'a_nB' 'a_nBr' 'a_nCl' 'a_nF' 'a_nI' 'a_nO' 'a_nP' 'a_nS'\n",
      " 'FCharge' 'balabanJ' 'PEOE_RPC+' 'PEOE_RPC-' 'PEOE_VSA+0' 'PEOE_VSA+1'\n",
      " 'PEOE_VSA+2' 'PEOE_VSA+4' 'PEOE_VSA+5' 'PEOE_VSA+6' 'PEOE_VSA-0'\n",
      " 'PEOE_VSA-1' 'PEOE_VSA-3' 'PEOE_VSA-4' 'PEOE_VSA-5' 'PEOE_VSA-6'\n",
      " 'PEOE_VSA_FNEG' 'PEOE_VSA_FPNEG' 'PEOE_VSA_FPPOS' 'lip_don' 'lip_druglike'\n",
      " 'lip_violation' 'opr_leadlike' 'opr_nrot' 'opr_violation' 'Kier3' 'KierA3'\n",
      " 'KierFlex' 'logS' 'a_acc' 'a_acid' 'a_base' 'vsa_acc' 'vsa_acid'\n",
      " 'vsa_base' 'vsa_don' 'vsa_other' 'SlogP' 'SlogP_VSA2' 'SlogP_VSA3'\n",
      " 'SlogP_VSA4' 'SlogP_VSA5' 'SlogP_VSA6' 'SlogP_VSA7' 'SlogP_VSA9'\n",
      " 'SMR_VSA1' 'SMR_VSA2' 'SMR_VSA3' 'SMR_VSA4' 'SMR_VSA6' 'density'\n",
      " 'logP(o/w)']\n"
     ]
    }
   ],
   "source": [
    "# load selected features\n",
    "piv = np.load('features_local_cond.npy')\n",
    "print 'Features to consider:', piv\n",
    "# find indices of those features in feature_names\n",
    "piv_ind = np.array([f in piv for f in feature_names])"
   ]
  },
  {
   "cell_type": "code",
   "execution_count": 41,
   "metadata": {
    "collapsed": true
   },
   "outputs": [],
   "source": [
    "# select group of tasks to consider\n",
    "X_k, Y_k = select_tasks(X, Y, receptor_ind=[0, 1, 2])"
   ]
  },
  {
   "cell_type": "code",
   "execution_count": 42,
   "metadata": {
    "collapsed": true
   },
   "outputs": [],
   "source": [
    "# split into train and test\n",
    "X_train, X_test, Y_train, Y_test = train_test_split(X_k, Y_k, test_size=.5, random_state=100)"
   ]
  },
  {
   "cell_type": "markdown",
   "metadata": {},
   "source": [
    "#### Counting quality criteria: AUC"
   ]
  },
  {
   "cell_type": "code",
   "execution_count": 43,
   "metadata": {
    "collapsed": true
   },
   "outputs": [],
   "source": [
    "def Kfold_cv_Single(clf, X, y, K):\n",
    "    res = []\n",
    "    for train_ind, test_ind in KFold(n=X.shape[0], n_folds=K, shuffle=True, random_state=1):\n",
    "        w = clf.fit(X[train_ind], y[train_ind]).coef_\n",
    "        y_pred = X[test_ind].dot(w)\n",
    "        \n",
    "        temp = roc_auc_score(y[test_ind], y_pred)\n",
    "        res.append(temp)\n",
    "     \n",
    "    return np.array(res).mean()\n",
    "\n",
    "def Kfold_cv_MTL(clf, X, Y, K):\n",
    "    res = []\n",
    "    for train_ind, test_ind in KFold(n=X.shape[0], n_folds=K, shuffle=True, random_state=100):\n",
    "        W = clf.fit(X[train_ind], Y[train_ind]).coef_.T\n",
    "        Y_pred = X[test_ind].dot(W)\n",
    "        \n",
    "        temp = np.zeros(Y.shape[1])\n",
    "        for i in range(Y.shape[1]):\n",
    "            temp[i] = roc_auc_score(Y[test_ind, i], Y_pred[:, i])\n",
    "        res.append(temp)\n",
    "     \n",
    "    return np.array(res).mean(axis=0)"
   ]
  },
  {
   "cell_type": "markdown",
   "metadata": {},
   "source": [
    "### General problem statement"
   ]
  },
  {
   "cell_type": "markdown",
   "metadata": {},
   "source": [
    "Given training data $X \\in \\mathbb{R}^{n \\times d}$, and associated class labels $Y \\in \\mathbb{R}^{n \\times c}$, we want to obtain the projection matrix $W \\in \\mathbb{R}^{d \\times c}$, such that\n",
    "\n",
    "$$Y \\approx XW$$\n",
    "\n",
    "Training data can also be denoted as $(x_i, y_i)_{i=1}^n$ Note that here every $y_i \\in \\mathbb{R}^c$, which means having multiple labels for each training case.\n",
    "\n",
    "Problem in general form can be stated as \n",
    "\n",
    "$$\\min l(XW - Y) + \\gamma \\Omega(W)$$\n",
    "\n",
    "In our project we consider either $l(XW - Y) = \\| XW - Y \\|_{2, 1}$ or $l(XW - Y) = \\| XW - Y \\|_2^2$.\n"
   ]
  },
  {
   "cell_type": "markdown",
   "metadata": {},
   "source": [
    "### Least squares problem with $l_1$ regularization"
   ]
  },
  {
   "cell_type": "markdown",
   "metadata": {},
   "source": [
    "$$\\min_{W} \\dfrac{1}{ 2 n } \\| XW - Y \\|_2^2 + \\gamma \\| W \\|_{2, 1}$$"
   ]
  },
  {
   "cell_type": "code",
   "execution_count": 46,
   "metadata": {
    "collapsed": false
   },
   "outputs": [],
   "source": [
    "class MultiTaskLaso:\n",
    "    def __init__(self, alpha=1.0, max_iter=1000, tol=1e-4):\n",
    "        self.alpha = alpha\n",
    "        self.coef_ = None\n",
    "        self.max_iter = max_iter\n",
    "        self.tol = tol\n",
    "        self.l1_ratio = 1.0\n",
    "        \n",
    "    def coordinate_descent(self, W, l1_reg, l2_reg, X, Y, max_iter, tol):\n",
    "        n_samples = X.shape[0]\n",
    "        n_features = X.shape[1]\n",
    "        n_tasks = Y.shape[1]\n",
    "        \n",
    "        gap = tol + 1.0\n",
    "        d_w_tol = tol\n",
    "        \n",
    "        n_iter = 0\n",
    "        \n",
    "        norm_cols_X = (X ** 2).sum(axis=0)\n",
    "        # residuals\n",
    "        R = Y - np.dot(X, W.T)        \n",
    "        tol = tol * np.linalg.norm(Y, ord='fro') ** 2\n",
    "        \n",
    "        for n_iter in range(max_iter):\n",
    "            w_max = 0.0\n",
    "            d_w_max = 0.0\n",
    "            for f_iter in range(n_features):  # over all coordinates\n",
    "                ii = f_iter\n",
    "                if norm_cols_X[ii] == 0.0:\n",
    "                    continue\n",
    "\n",
    "                w_ii = W[:, ii] # previous value\n",
    "                \n",
    "                if np.sum(w_ii ** 2) != 0.0:  # can do better\n",
    "                    #R += np.dot(X[:, ii][:, None], w_ii[None, :]) # rank 1 update\n",
    "                    #print w_ii\n",
    "                    R += np.dot(X[:, ii][:, None], w_ii[None, :])\n",
    "                    \n",
    "                tmp = np.dot(X[:, ii][None, :], R).ravel()\n",
    "                \n",
    "                nn = np.sqrt(np.sum(tmp ** 2))\n",
    "\n",
    "                W[:, ii] = tmp * np.max(1. - l1_reg / nn, 0) / (norm_cols_X[ii] + l2_reg)\n",
    "\n",
    "                if np.sum(W[:, ii] ** 2) != 0.0:  # can do better\n",
    "                    R -= np.dot(X[:, ii][:, None], W[:, ii][None, :])\n",
    "                    # Update residual : rank 1 update\n",
    "\n",
    "                # update the maximum absolute coefficient update\n",
    "                d_w_ii = np.max(np.abs(W[:, ii] - w_ii))\n",
    "                if d_w_ii > d_w_max:\n",
    "                    d_w_max = d_w_ii\n",
    "\n",
    "                W_ii_abs_max = np.max(np.abs(W[:, ii]))\n",
    "                if W_ii_abs_max > w_max:\n",
    "                    w_max = W_ii_abs_max\n",
    "\n",
    "            if w_max == 0.0 or d_w_max / w_max < d_w_tol or n_iter == max_iter - 1:\n",
    "                # maximum update of the coordinate on current step was smaller than tol\n",
    "                # check the duality gap to determine whether to stop\n",
    "                \n",
    "                XtA = np.dot(X.T, R) - l2_reg * W.T\n",
    "                \n",
    "                dual_norm_XtA = np.max(np.sqrt(np.sum(XtA ** 2, axis=1)))\n",
    "                \n",
    "                R_norm = np.linalg.norm(R, ord='fro')\n",
    "                w_norm = np.linalg.norm(W, ord='fro')\n",
    "                \n",
    "                if (dual_norm_XtA > l1_reg):\n",
    "                    const =  l1_reg / dual_norm_XtA\n",
    "                    A_norm = R_norm * const\n",
    "                    gap = 0.5 * (R_norm ** 2 + A_norm ** 2)\n",
    "                else:\n",
    "                    const = 1.0\n",
    "                    gap = R_norm ** 2\n",
    "\n",
    "                ry_sum = np.sum(R * Y)\n",
    "                \n",
    "                l21_norm = np.sqrt(np.sum(W ** 2, axis=0)).sum()\n",
    "                \n",
    "                gap += l1_reg * l21_norm - const * ry_sum + 0.5 * l2_reg * (1 + const ** 2) * (w_norm ** 2)\n",
    "\n",
    "                if gap < tol:\n",
    "                    break # reached desired tolerance\n",
    "\n",
    "        return np.asarray(W), gap, tol, n_iter + 1\n",
    "\n",
    "    def fit(self, X_train, y_train):        \n",
    "        y = np.copy(y_train).astype('double')\n",
    "        X = np.copy(X_train)\n",
    "        \n",
    "        # center data to have zero mean along axis=0\n",
    "        X -= np.mean(X, axis=0)\n",
    "        y -= np.mean(y, axis=0)\n",
    "        \n",
    "        n_samples, n_features = X.shape\n",
    "        _, n_tasks = y.shape\n",
    "        \n",
    "        #X, y, X_mean, y_mean, X_std = center_data(X, y, self.fit_intercept, self.normalize, copy=False)\n",
    "        \n",
    "        self.coef_ = np.zeros((n_tasks, n_features), dtype=np.float64)\n",
    "        \n",
    "        l1_reg = self.alpha * self.l1_ratio * n_samples\n",
    "        l2_reg = self.alpha * (1.0 - self.l1_ratio) * n_samples\n",
    "        \n",
    "        self.coef_, self.dual_gap_, self.eps_, self.n_iter_ = self.coordinate_descent(\n",
    "                    self.coef_, l1_reg, l2_reg, X, y, self.max_iter, self.tol)\n",
    "        \n",
    "        \n",
    "        if self.dual_gap_ > self.eps_:\n",
    "            print 'Did not converge', self.dual_gap_, self.eps_\n",
    "            \n",
    "        return self\n",
    "        \n",
    "    def predict(self, X_new):\n",
    "        return X_new.dot(self.coef_.T) #+ self.intercept_\n",
    "\n",
    "        "
   ]
  },
  {
   "cell_type": "code",
   "execution_count": 53,
   "metadata": {
    "collapsed": true
   },
   "outputs": [],
   "source": [
    "start = time()\n",
    "clf_MTL =MultiTaskLasso(alpha=0.1)\n",
    "res_MTL = Kfold_cv_MTL(clf_MTL, X_k, Y_k, 10)\n",
    "time_MTL = time() - start"
   ]
  },
  {
   "cell_type": "code",
   "execution_count": 56,
   "metadata": {
    "collapsed": false
   },
   "outputs": [
    {
     "name": "stdout",
     "output_type": "stream",
     "text": [
      "Run took 43.09 seconds\n",
      "AUC for all considered tasks:  [ 0.86029651  0.83281332  0.8471456 ]\n"
     ]
    }
   ],
   "source": [
    "print 'Run took %.2f seconds' %time_MTL\n",
    "print 'AUC for all considered tasks: ', res_MTL"
   ]
  },
  {
   "cell_type": "code",
   "execution_count": 57,
   "metadata": {
    "collapsed": true
   },
   "outputs": [],
   "source": [
    "clf_MTL = MultiTaskLasso(alpha=0.2)\n",
    "clf_Single = Lasso(alpha=0.2)"
   ]
  },
  {
   "cell_type": "code",
   "execution_count": 58,
   "metadata": {
    "collapsed": false
   },
   "outputs": [
    {
     "data": {
      "image/png": "[encoded data removed]",
      "text/plain": [
       "<matplotlib.figure.Figure at 0x1affadd8>"
      ]
     },
     "metadata": {},
     "output_type": "display_data"
    }
   ],
   "source": [
    "X_train, X_test, Y_train, Y_test = train_test_split(X_k, Y_k, test_size=.5, random_state=100)\n",
    "\n",
    "Y_pred = clf_MTL.fit(X_train, Y_train).predict(X_test)\n",
    "Y_pred_single = np.array([clf_Single.fit(X_train, y).predict(X_test) for y in Y_train.T]).T\n",
    "\n",
    "fig, ax = plt.subplots(1, 3, figsize=(30, 6))\n",
    "for i in range(Y_test.shape[1]):\n",
    "    fpr, tpr, _ = roc_curve(Y_test[:, i], Y_pred[:, i])\n",
    "    ax[i].plot(fpr, tpr, lw=2, label='MTL')\n",
    "    fpr, tpr, _ = roc_curve(Y_test[:, i], Y_pred_single[:, i])\n",
    "    ax[i].plot(fpr, tpr, lw=2, label='STL')\n",
    "    ax[i].legend(loc='lower right')"
   ]
  },
  {
   "cell_type": "code",
   "execution_count": 59,
   "metadata": {
    "collapsed": false
   },
   "outputs": [
    {
     "name": "stdout",
     "output_type": "stream",
     "text": [
      "[ 0.83843463  0.84011247  0.85901213]\n",
      "[ 0.83359182  0.85615923  0.87083204]\n"
     ]
    }
   ],
   "source": [
    "res_MTL = Kfold_cv_MTL(clf_MTL, X_k, Y_k, 10)\n",
    "res_Single = np.array([Kfold_cv_Single(clf_Single, X_k, y, 10) for y in Y_k.T])\n",
    "\n",
    "print res_MTL\n",
    "print res_Single"
   ]
  },
  {
   "cell_type": "code",
   "execution_count": 60,
   "metadata": {
    "collapsed": false
   },
   "outputs": [
    {
     "name": "stdout",
     "output_type": "stream",
     "text": [
      "[0.82817326817768833, 0.86193413910805217, 0.87982740021574968]\n",
      "[0.82190653930211421, 0.86479491914274531, 0.89208318350713167]\n"
     ]
    },
    {
     "data": {
      "image/png": "[encoded data removed]",
      "text/plain": [
       "<matplotlib.figure.Figure at 0x1b63acc0>"
      ]
     },
     "metadata": {},
     "output_type": "display_data"
    },
    {
     "data": {
      "image/png": "[encoded data removed]",
      "text/plain": [
       "<matplotlib.figure.Figure at 0x1b2738d0>"
      ]
     },
     "metadata": {},
     "output_type": "display_data"
    },
    {
     "data": {
      "image/png": "[encoded data removed]",
      "text/plain": [
       "<matplotlib.figure.Figure at 0x20877e10>"
      ]
     },
     "metadata": {},
     "output_type": "display_data"
    }
   ],
   "source": [
    "Y_pred = clf_MTL.fit(X_train, Y_train).predict(X_test)\n",
    "Y_pred_single = np.array([clf_Single.fit(X_train, y).predict(X_test) for y in Y_train.T]).T\n",
    "\n",
    "import matplotlib\n",
    "matplotlib.rcParams.update({'font.size': 16})\n",
    "for i in range(Y_test.shape[1]):\n",
    "    plt.figure(figsize=(5, 4))\n",
    "    fpr, tpr, _ = roc_curve(Y_test[:, i], Y_pred[:, i])\n",
    "    plt.plot(fpr, tpr, lw=3, label='MTL')\n",
    "    fpr, tpr, _ = roc_curve(Y_test[:, i], Y_pred_single[:, i])\n",
    "    plt.plot(fpr, tpr, lw=3, label='STL')\n",
    "    plt.legend(loc='lower right')\n",
    "    plt.savefig('ROC_curves_' + str(i) + '.png', pad_inches=0)\n",
    "\n",
    "print [roc_auc_score(Y_test[:, i], Y_pred[:, i]) for i in range(Y_test.shape[1])]\n",
    "print [roc_auc_score(Y_test[:, i], Y_pred_single[:, i]) for i in range(Y_test.shape[1])]"
   ]
  },
  {
   "cell_type": "code",
   "execution_count": 61,
   "metadata": {
    "collapsed": false
   },
   "outputs": [
    {
     "name": "stdout",
     "output_type": "stream",
     "text": [
      "[[3]\n",
      " [1]]\n",
      "[[3 6]\n",
      " [1 2]]\n"
     ]
    }
   ],
   "source": [
    "A = np.array([[1, 2, 3],\n",
    "              [1, 1, 1]])\n",
    "b = np.array([1, 2])\n",
    "print A[:, 2][:, None]\n",
    "print np.dot(A[:, 2][:, None], b[None, :])"
   ]
  },
  {
   "cell_type": "markdown",
   "metadata": {},
   "source": [
    "### Multi-task feature selection"
   ]
  },
  {
   "cell_type": "code",
   "execution_count": 62,
   "metadata": {
    "collapsed": false
   },
   "outputs": [],
   "source": [
    "class MTLFeatureSelection():\n",
    "    def __init__(self, X, Y):\n",
    "        self.X = X\n",
    "        self.Y = Y  \n",
    "        self.d = X.shape[1]\n",
    "        self.m = X.shape[0]\n",
    "        self.T = Y.shape[1]\n",
    "        \n",
    "    def fun(self, w):\n",
    "        y = self.Y[:, self.task_num]\n",
    "        return np.sum((y - self.X.dot(w)) ** 2) + self.gamma*np.inner(w, self.D_pinv.dot(w))\n",
    "       \n",
    "    def gradient(self, w):\n",
    "        y = self.Y[:, self.task_num]\n",
    "        grad = np.zeros(self.d)\n",
    "        for i in range(self.m):\n",
    "            grad += ( np.inner(w, self.X[i]) - y[i] ) * self.X[i]\n",
    "        return 2*grad + 2*self.gamma*self.D_pinv.dot(w)         \n",
    "        \n",
    "    \n",
    "    def Hess(self, w):\n",
    "        return 2*self.X.T.dot(self.X) + 2*self.gamma*self.D_pinv\n",
    "    \n",
    "    def solve(self, gamma = 2, maxiter=1, tol=1e-4):\n",
    "        self.gamma = gamma\n",
    "        self.D_pinv = self.d * np.identity(self.d)\n",
    "        W = np.ones((self.d, self.T))/self.d\n",
    "        \n",
    "        it =0\n",
    "        n_it = 0\n",
    "        delta_ = np.inf\n",
    "        while it < maxiter and delta_ > tol:\n",
    "            for j in range(self.T):\n",
    "                self.task_num = j\n",
    "                sol = sp.optimize.minimize(self.fun, W[:, j], jac=self.gradient, hess=self.Hess, method='Newton-CG')\n",
    "                \n",
    "                n_it += sol.nit\n",
    "                w_t = np.array(sol.x).reshape(self.d)\n",
    "                if np.linalg.norm(W[:, j] - w_t) < delta_:\n",
    "                    delta_ = np.linalg.norm(W[:, j] - w_t) \n",
    "                W[:, j] = w_t\n",
    "                \n",
    "            A = sp.linalg.sqrtm(W.dot(W.T))\n",
    "            self.D_pinv = sp.linalg.pinv(A / np.trace(A)).astype('double')\n",
    "            it += 1\n",
    "        self.W = W\n",
    "        return W, n_it\n",
    "    \n",
    "    def predict(self, X_new):\n",
    "        return X_new.dot(self.W)\n",
    "       "
   ]
  },
  {
   "cell_type": "code",
   "execution_count": 67,
   "metadata": {
    "collapsed": false
   },
   "outputs": [],
   "source": [
    "#myMTLfeat = MTLFeatureSelection(scale(X_k, axis=0), Y_k)\n",
    "myMTLfeat = MTLFeatureSelection(scale(X_train, axis=0), Y_train)\n",
    "start = time()\n",
    "W, n_iter = myMTLfeat.solve(maxiter=1)\n",
    "time_feat = time() - start"
   ]
  },
  {
   "cell_type": "code",
   "execution_count": 70,
   "metadata": {
    "collapsed": false
   },
   "outputs": [
    {
     "name": "stdout",
     "output_type": "stream",
     "text": [
      "230 iterations passed. Run took 175.00 sec\n"
     ]
    }
   ],
   "source": [
    "print '%i iterations passed. Run took %.2f sec' %(n_iter, time_feat)"
   ]
  },
  {
   "cell_type": "code",
   "execution_count": 71,
   "metadata": {
    "collapsed": false,
    "scrolled": true
   },
   "outputs": [
    {
     "name": "stdout",
     "output_type": "stream",
     "text": [
      "[0.86865653316307734, 0.89232555536903357, 0.86720004794438454]\n"
     ]
    }
   ],
   "source": [
    "#Y_pred = myMTLfeat.predict(scale(X_k, axis=0))\n",
    "Y_pred = myMTLfeat.predict(scale(X_test, axis=0))\n",
    "#print roc_auc_score(Y_k[:, 0], Y_pred[:, 0])\n",
    "print [roc_auc_score(Y_test[:, i], Y_pred[:, i]) for i in range(Y_test.shape[1])]"
   ]
  }
 ],
 "metadata": {
  "kernelspec": {
   "display_name": "Python 2",
   "language": "python",
   "name": "python2"
  },
  "language_info": {
   "codemirror_mode": {
    "name": "ipython",
    "version": 2
   },
   "file_extension": ".py",
   "mimetype": "text/x-python",
   "name": "python",
   "nbconvert_exporter": "python",
   "pygments_lexer": "ipython2",
   "version": "2.7.10"
  }
 },
 "nbformat": 4,
 "nbformat_minor": 0
}
